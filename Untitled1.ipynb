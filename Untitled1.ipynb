{
 "metadata": {
  "name": "",
  "signature": "sha256:b8e0502b2f55ca5acb454fa227834cfa3390e18dffc8f5a9b75a3fe18e22743f"
 },
 "nbformat": 3,
 "nbformat_minor": 0,
 "worksheets": []
}