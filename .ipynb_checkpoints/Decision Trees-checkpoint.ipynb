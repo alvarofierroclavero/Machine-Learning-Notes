{
 "metadata": {
  "name": "",
  "signature": "sha256:cb15102e136a178801d7f4acf020717400546f070c9bfebd0a1aca4889c5e9f7"
 },
 "nbformat": 3,
 "nbformat_minor": 0,
 "worksheets": [
  {
   "cells": [
    {
     "cell_type": "markdown",
     "metadata": {},
     "source": [
      "http://scikit-learn.org/stable/modules/tree.html"
     ]
    },
    {
     "cell_type": "code",
     "collapsed": false,
     "input": [],
     "language": "python",
     "metadata": {},
     "outputs": []
    }
   ],
   "metadata": {}
  }
 ]
}