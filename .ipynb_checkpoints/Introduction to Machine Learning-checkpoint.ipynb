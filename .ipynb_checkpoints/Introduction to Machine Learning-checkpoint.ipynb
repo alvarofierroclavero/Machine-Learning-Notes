{
 "metadata": {
  "name": "",
  "signature": "sha256:4d9d3c90175df9c5a89873ef8618d14d366d4e75d392a7967ae835754ee38163"
 },
 "nbformat": 3,
 "nbformat_minor": 0,
 "worksheets": [
  {
   "cells": [
    {
     "cell_type": "markdown",
     "metadata": {},
     "source": [
      "# Intro"
     ]
    },
    {
     "cell_type": "markdown",
     "metadata": {},
     "source": [
      "#Supervised Learning"
     ]
    },
    {
     "cell_type": "markdown",
     "metadata": {},
     "source": [
      "# Unsupervised Learning"
     ]
    },
    {
     "cell_type": "code",
     "collapsed": false,
     "input": [],
     "language": "python",
     "metadata": {},
     "outputs": []
    }
   ],
   "metadata": {}
  }
 ]
}