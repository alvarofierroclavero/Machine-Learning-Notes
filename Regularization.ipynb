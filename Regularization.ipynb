{
 "metadata": {
  "name": "",
  "signature": "sha256:305de757fa569ac3bd49f11743464418353078a8db7cf2bbf2e3c35f9b4f76d5"
 },
 "nbformat": 3,
 "nbformat_minor": 0,
 "worksheets": [
  {
   "cells": [
    {
     "cell_type": "code",
     "collapsed": false,
     "input": [],
     "language": "python",
     "metadata": {},
     "outputs": []
    }
   ],
   "metadata": {}
  }
 ]
}