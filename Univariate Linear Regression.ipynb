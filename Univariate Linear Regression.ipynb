{
 "metadata": {
  "name": "",
  "signature": "sha256:170203d1dff3a2ef48595ff451387bb0768dd7304ece2ec2f9cc016d9ae8fc2c"
 },
 "nbformat": 3,
 "nbformat_minor": 0,
 "worksheets": [
  {
   "cells": [
    {
     "cell_type": "markdown",
     "metadata": {},
     "source": [
      "http://scikit-learn.org/stable/modules/linear_model.html"
     ]
    },
    {
     "cell_type": "markdown",
     "metadata": {},
     "source": [
      "http://scikit-learn.org/stable/auto_examples/linear_model/plot_ols.html"
     ]
    },
    {
     "cell_type": "code",
     "collapsed": false,
     "input": [],
     "language": "python",
     "metadata": {},
     "outputs": []
    }
   ],
   "metadata": {}
  }
 ]
}